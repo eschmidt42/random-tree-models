{
 "cells": [
  {
   "attachments": {},
   "cell_type": "markdown",
   "metadata": {},
   "source": [
    "# Robust random cut forest"
   ]
  },
  {
   "attachments": {},
   "cell_type": "markdown",
   "metadata": {},
   "source": [
    "An anomaly detection method building on top of the isolation forest. \n",
    "\n",
    "Definition 1 in the Robust Random Cut Forest introduces the Robust Random Cut Tree, which seems to only differ from an isolation tree in how it chooses the column order. The isolation tree samples the columns uniformly at random. The robust random cut tree uses the difference between the maximum and minimum values observed for each feature to weight that sampling, i.e.\n",
    "$$ \\text{weight of column } i = \\frac{l_i}{\\sum_i l_i}$$\n",
    "\n",
    "where $l_i = max(X_i) - min(X_i)$ of the column values available to the current node."
   ]
  },
  {
   "attachments": {},
   "cell_type": "markdown",
   "metadata": {},
   "source": [
    "## References\n",
    "\n",
    "* [Guha et al. 2016, Robust Random Cut Forest Based Anomaly Detection on Stream](https://proceedings.mlr.press/v48/guha16.html)"
   ]
  },
  {
   "cell_type": "code",
   "execution_count": null,
   "metadata": {},
   "outputs": [],
   "source": [
    "%load_ext autoreload\n",
    "%autoreload 2"
   ]
  },
  {
   "cell_type": "code",
   "execution_count": null,
   "metadata": {},
   "outputs": [],
   "source": [
    "import math\n",
    "\n",
    "import matplotlib.pyplot as plt\n",
    "import numpy as np\n",
    "import pandas as pd\n",
    "import seaborn as sns\n",
    "import sklearn.datasets as sk_datasets\n",
    "\n",
    "import random_tree_models.decisiontree as dtree\n",
    "import random_tree_models.isolationforest as iforest"
   ]
  },
  {
   "cell_type": "code",
   "execution_count": null,
   "metadata": {},
   "outputs": [],
   "source": [
    "rng = np.random.RandomState(42)"
   ]
  },
  {
   "attachments": {},
   "cell_type": "markdown",
   "metadata": {},
   "source": [
    "## Outlier detection"
   ]
  },
  {
   "cell_type": "code",
   "execution_count": null,
   "metadata": {},
   "outputs": [],
   "source": [
    "X, y = sk_datasets.make_classification(\n",
    "    n_samples=1_000,\n",
    "    n_features=2,\n",
    "    n_classes=2,\n",
    "    n_redundant=0,\n",
    "    class_sep=2,\n",
    "    random_state=rng,\n",
    ")\n",
    "sns.scatterplot(x=X[:, 0], y=X[:, 1], hue=y, alpha=0.3);"
   ]
  },
  {
   "attachments": {},
   "cell_type": "markdown",
   "metadata": {},
   "source": [
    "Let's say `y = True` is anomalous"
   ]
  },
  {
   "cell_type": "code",
   "execution_count": null,
   "metadata": {},
   "outputs": [],
   "source": [
    "frac_subsamples = 2 / 3\n",
    "frac_features = 1  # math.sqrt(X.shape[1]) / X.shape[1]\n",
    "frac_subsamples, frac_features, X.shape[1]\n",
    "\n",
    "threshold_method = \"uniform\"  # selects a random threshold from the linear space between the min and max values in X\n",
    "# threshold_method=\"random\" # selects a random threshold from the values in X\n",
    "column_method = \"largest_delta\"  # selects the column with the largest difference between min and max values in X"
   ]
  },
  {
   "cell_type": "code",
   "execution_count": null,
   "metadata": {},
   "outputs": [],
   "source": [
    "X_inlier = X[y == 0]\n",
    "X_outlier = X[y == 1]\n",
    "X_inlier.shape, X_outlier.shape"
   ]
  },
  {
   "cell_type": "code",
   "execution_count": null,
   "metadata": {},
   "outputs": [],
   "source": [
    "model = iforest.IsolationForest(\n",
    "    max_depth=10,\n",
    "    n_trees=100,\n",
    "    random_state=42,\n",
    "    threshold_method=threshold_method,\n",
    "    n_thresholds=1,\n",
    "    frac_subsamples=frac_subsamples,\n",
    "    frac_features=frac_features,\n",
    "    column_method=column_method,\n",
    ")"
   ]
  },
  {
   "cell_type": "code",
   "execution_count": null,
   "metadata": {},
   "outputs": [],
   "source": [
    "model.fit(\n",
    "    X_inlier,\n",
    ")"
   ]
  },
  {
   "cell_type": "code",
   "execution_count": null,
   "metadata": {},
   "outputs": [],
   "source": [
    "dtree.show_tree(model.trees_[0])"
   ]
  },
  {
   "cell_type": "code",
   "execution_count": null,
   "metadata": {},
   "outputs": [],
   "source": [
    "y_pred = model.predict(X)\n",
    "y_pred[:5]"
   ]
  },
  {
   "cell_type": "code",
   "execution_count": null,
   "metadata": {},
   "outputs": [],
   "source": [
    "x0 = np.linspace(X[:, 0].min(), X[:, 0].max(), 100)\n",
    "x1 = np.linspace(X[:, 1].min(), X[:, 1].max(), 100)\n",
    "X0, X1 = np.meshgrid(x0, x1)\n",
    "X_plot = np.array([X0.ravel(), X1.ravel()]).T"
   ]
  },
  {
   "cell_type": "code",
   "execution_count": null,
   "metadata": {},
   "outputs": [],
   "source": [
    "y_pred = model.predict(X_plot)\n",
    "y_pred[:5]"
   ]
  },
  {
   "cell_type": "code",
   "execution_count": null,
   "metadata": {},
   "outputs": [],
   "source": [
    "model.trees_[0].growth_params_"
   ]
  },
  {
   "cell_type": "code",
   "execution_count": null,
   "metadata": {},
   "outputs": [],
   "source": [
    "fig, ax = plt.subplots()\n",
    "im = ax.pcolormesh(X0, X1, y_pred.reshape(X0.shape), alpha=0.2)\n",
    "fig.colorbar(im, ax=ax)\n",
    "sns.scatterplot(x=X[:, 0], y=X[:, 1], hue=y, ax=ax, alpha=0.3)\n",
    "ax.set_title(\"mean tree depth\")\n",
    "plt.show()"
   ]
  },
  {
   "cell_type": "code",
   "execution_count": null,
   "metadata": {},
   "outputs": [],
   "source": [
    "fig, ax = plt.subplots()\n",
    "im = ax.pcolormesh(X0, X1, 1 / y_pred.reshape(X0.shape), alpha=0.2)\n",
    "fig.colorbar(im, ax=ax)\n",
    "sns.scatterplot(x=X[:, 0], y=X[:, 1], hue=y, ax=ax, alpha=0.3)\n",
    "ax.set_title(\"Anomaly score (1/mean tree depth)\")\n",
    "plt.show()"
   ]
  },
  {
   "cell_type": "code",
   "execution_count": null,
   "metadata": {},
   "outputs": [],
   "source": [
    "y_pred_inlier = model.predict(X_inlier)\n",
    "y_pred_outlier = model.predict(X_outlier)"
   ]
  },
  {
   "cell_type": "code",
   "execution_count": null,
   "metadata": {},
   "outputs": [],
   "source": [
    "pd.Series(y_pred_inlier).describe().to_frame()"
   ]
  },
  {
   "cell_type": "code",
   "execution_count": null,
   "metadata": {},
   "outputs": [],
   "source": [
    "pd.Series(y_pred_outlier).describe().to_frame()"
   ]
  },
  {
   "cell_type": "code",
   "execution_count": null,
   "metadata": {},
   "outputs": [],
   "source": [
    "fig, ax = plt.subplots(figsize=(10, 5))\n",
    "\n",
    "bins = np.linspace(0, max(y_pred_inlier.max(), y_pred_outlier.max()), 100)\n",
    "sns.histplot(\n",
    "    x=y_pred_inlier, ax=ax, label=\"inlier\", color=\"C0\", alpha=0.5, bins=bins\n",
    ")\n",
    "sns.histplot(\n",
    "    x=y_pred_outlier, ax=ax, label=\"outlier\", color=\"C1\", alpha=0.5, bins=bins\n",
    ")\n",
    "ax.legend(title=\"group\")\n",
    "ax.set_title(\"Mean path length distributions\")\n",
    "plt.tight_layout()"
   ]
  },
  {
   "cell_type": "code",
   "execution_count": null,
   "metadata": {},
   "outputs": [],
   "source": [
    "fig, ax = plt.subplots(figsize=(10, 5))\n",
    "\n",
    "bins = np.linspace(0, 1, 100)\n",
    "sns.histplot(\n",
    "    x=1 / y_pred_inlier, ax=ax, label=\"inlier\", color=\"C0\", alpha=0.5, bins=bins\n",
    ")\n",
    "sns.histplot(\n",
    "    x=1 / y_pred_outlier,\n",
    "    ax=ax,\n",
    "    label=\"outlier\",\n",
    "    color=\"C1\",\n",
    "    alpha=0.5,\n",
    "    bins=bins,\n",
    ")\n",
    "ax.legend(title=\"group\")\n",
    "ax.set_title(\"Anomaly score (1/mean path length) distributions\")\n",
    "plt.tight_layout()"
   ]
  },
  {
   "cell_type": "code",
   "execution_count": null,
   "metadata": {},
   "outputs": [],
   "source": []
  }
 ],
 "metadata": {
  "kernelspec": {
   "display_name": ".venv",
   "language": "python",
   "name": "python3"
  },
  "language_info": {
   "codemirror_mode": {
    "name": "ipython",
    "version": 3
   },
   "file_extension": ".py",
   "mimetype": "text/x-python",
   "name": "python",
   "nbconvert_exporter": "python",
   "pygments_lexer": "ipython3",
   "version": "3.10.11"
  }
 },
 "nbformat": 4,
 "nbformat_minor": 2
}
