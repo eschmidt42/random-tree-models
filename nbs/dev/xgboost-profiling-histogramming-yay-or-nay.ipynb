{
 "cells": [
  {
   "attachments": {},
   "cell_type": "markdown",
   "metadata": {},
   "source": [
    "# XGBoost histogramming yay or nay"
   ]
  },
  {
   "attachments": {},
   "cell_type": "markdown",
   "metadata": {},
   "source": [
    "Instead of the $\\epsilon$ parameter, as discussed in the XGBoost paper in eq. 9, we use here `n_bins`. \n",
    "\n",
    "**Summary**\n",
    "\n",
    "Testing up to 10k samples and 10 columns / features we did not find a significant speed difference between using and not using the histogramming technique below that amount of samples. But the classification example potentially already benefits slightly. \n",
    "\n",
    "Note the authors demonstrated their more fancy version of what was implemented here on 10 million samples."
   ]
  },
  {
   "cell_type": "code",
   "execution_count": null,
   "metadata": {},
   "outputs": [],
   "source": [
    "%load_ext autoreload\n",
    "%autoreload 2"
   ]
  },
  {
   "cell_type": "code",
   "execution_count": null,
   "metadata": {},
   "outputs": [],
   "source": [
    "import itertools\n",
    "import time\n",
    "import typing as T\n",
    "\n",
    "import matplotlib.pyplot as plt\n",
    "import numpy as np\n",
    "import pandas as pd\n",
    "import seaborn as sns\n",
    "import sklearn.datasets as sk_datasets\n",
    "from sklearn import metrics\n",
    "\n",
    "import random_tree_models.models.xgboost as xgboost"
   ]
  },
  {
   "cell_type": "code",
   "execution_count": null,
   "metadata": {},
   "outputs": [],
   "source": [
    "X, y = sk_datasets.make_classification(\n",
    "    n_samples=1_000,\n",
    "    n_features=2,\n",
    "    n_classes=2,\n",
    "    n_redundant=0,\n",
    "    class_sep=2,\n",
    "    random_state=42,\n",
    ")\n",
    "\n",
    "X_hist, all_x_bin_edges = xgboost.xgboost_histogrammify_with_h(\n",
    "    X, np.ones_like(X[:, 0]), n_bins=10\n",
    ")"
   ]
  },
  {
   "cell_type": "code",
   "execution_count": null,
   "metadata": {},
   "outputs": [],
   "source": [
    "X_hist2 = xgboost.xgboost_histogrammify_with_x_bin_edges(X, all_x_bin_edges)"
   ]
  },
  {
   "cell_type": "code",
   "execution_count": null,
   "metadata": {},
   "outputs": [],
   "source": [
    "(X_hist2 == X_hist).all()"
   ]
  },
  {
   "attachments": {},
   "cell_type": "markdown",
   "metadata": {},
   "source": [
    "## Classification"
   ]
  },
  {
   "cell_type": "code",
   "execution_count": null,
   "metadata": {},
   "outputs": [],
   "source": [
    "def get_class_stats(\n",
    "    use_hist: bool,\n",
    "    n_bins: int,\n",
    "    n_samples_arr: T.List[int],\n",
    "    n_features_arr: T.List[int],\n",
    ") -> pd.DataFrame:\n",
    "    execution_stats = []\n",
    "\n",
    "    for n_samples, n_features in itertools.product(n_samples_arr, n_features_arr):\n",
    "        X, y = sk_datasets.make_classification(\n",
    "            n_samples=n_samples,\n",
    "            n_features=n_features,\n",
    "            n_classes=2,\n",
    "            n_redundant=0,\n",
    "            class_sep=2,\n",
    "            random_state=42,\n",
    "        )\n",
    "        # sns.scatterplot(x=X[:, 0], y=X[:, 1], hue=y, alpha=0.3);\n",
    "\n",
    "        model = xgboost.XGBoostClassifier(use_hist=use_hist, n_bins=n_bins, max_depth=4)\n",
    "\n",
    "        t0 = time.time()\n",
    "        model.fit(X, y)\n",
    "\n",
    "        t1 = time.time()\n",
    "        y_pred = model.predict_proba(X)\n",
    "\n",
    "        t2 = time.time()\n",
    "\n",
    "        t_fit = t1 - t0\n",
    "        t_pred = t2 - t1\n",
    "        execution_stats.append(\n",
    "            {\n",
    "                \"n_samples\": n_samples,\n",
    "                \"n_features\": n_features,\n",
    "                \"t_fit\": t_fit,\n",
    "                \"t_pred\": t_pred,\n",
    "                \"auc\": metrics.roc_auc_score(y, y_pred[:, 1]),\n",
    "            }\n",
    "        )\n",
    "\n",
    "    execution_stats = pd.DataFrame(execution_stats)\n",
    "    return execution_stats"
   ]
  },
  {
   "cell_type": "code",
   "execution_count": null,
   "metadata": {},
   "outputs": [],
   "source": [
    "n_samples_arr = [100, 500, 1_000, 5_000, 10_000]\n",
    "n_features_arr = [2, 5, 10]"
   ]
  },
  {
   "cell_type": "code",
   "execution_count": null,
   "metadata": {},
   "outputs": [],
   "source": [
    "execution_stats_reg_vanilla = get_class_stats(False, 256, n_samples_arr, n_features_arr)"
   ]
  },
  {
   "cell_type": "code",
   "execution_count": null,
   "metadata": {},
   "outputs": [],
   "source": [
    "execution_stats_reg_with_hist = get_class_stats(\n",
    "    True, 256, n_samples_arr, n_features_arr\n",
    ")"
   ]
  },
  {
   "cell_type": "code",
   "execution_count": null,
   "metadata": {},
   "outputs": [],
   "source": [
    "execution_stats_reg = pd.concat(\n",
    "    [\n",
    "        execution_stats_reg_vanilla.assign(group=\"vanilla\"),\n",
    "        execution_stats_reg_with_hist.assign(group=\"histogram\"),\n",
    "    ],\n",
    "    ignore_index=True,\n",
    ")\n",
    "execution_stats_reg.head()"
   ]
  },
  {
   "cell_type": "code",
   "execution_count": null,
   "metadata": {},
   "outputs": [],
   "source": [
    "fig, axs = plt.subplots(figsize=(12, 9), nrows=3, sharex=True)\n",
    "\n",
    "ax = axs[0]\n",
    "sns.lineplot(\n",
    "    data=execution_stats_reg,\n",
    "    x=\"n_samples\",\n",
    "    y=\"t_fit\",\n",
    "    hue=\"n_features\",\n",
    "    style=\"group\",\n",
    "    ax=ax,\n",
    ")\n",
    "ax.set(title=\".fit\", ylabel=\"time [s]\")\n",
    "ax = axs[1]\n",
    "sns.lineplot(\n",
    "    data=execution_stats_reg,\n",
    "    x=\"n_samples\",\n",
    "    y=\"t_pred\",\n",
    "    hue=\"n_features\",\n",
    "    style=\"group\",\n",
    "    ax=ax,\n",
    ")\n",
    "ax.set(title=\".predict_proba\", ylabel=\"time [s]\")\n",
    "ax = axs[2]\n",
    "sns.lineplot(\n",
    "    data=execution_stats_reg,\n",
    "    x=\"n_samples\",\n",
    "    y=\"auc\",\n",
    "    hue=\"n_features\",\n",
    "    style=\"group\",\n",
    "    ax=ax,\n",
    ")\n",
    "ax.set(title=\"score\", ylabel=\"score [roc auc]\")\n",
    "\n",
    "plt.suptitle(\"Time DecisionTreeClassifier.* took based on n_samples and n_features\")\n",
    "plt.tight_layout()"
   ]
  },
  {
   "cell_type": "code",
   "execution_count": null,
   "metadata": {},
   "outputs": [],
   "source": [
    "fig, axs = plt.subplots(figsize=(12, 9), nrows=3)\n",
    "\n",
    "ax = axs[0]\n",
    "sns.lineplot(\n",
    "    data=execution_stats_reg,\n",
    "    x=\"n_features\",\n",
    "    y=\"t_fit\",\n",
    "    hue=\"n_samples\",\n",
    "    style=\"group\",\n",
    "    ax=ax,\n",
    ")\n",
    "\n",
    "ax = axs[1]\n",
    "sns.lineplot(\n",
    "    data=execution_stats_reg,\n",
    "    x=\"n_features\",\n",
    "    y=\"t_pred\",\n",
    "    hue=\"n_samples\",\n",
    "    style=\"group\",\n",
    "    ax=ax,\n",
    ")\n",
    "\n",
    "ax = axs[2]\n",
    "sns.lineplot(\n",
    "    data=execution_stats_reg,\n",
    "    x=\"n_features\",\n",
    "    y=\"auc\",\n",
    "    hue=\"n_samples\",\n",
    "    style=\"group\",\n",
    "    ax=ax,\n",
    ")\n",
    "\n",
    "\n",
    "plt.suptitle(\"Time take based on n_features\")\n",
    "plt.tight_layout()"
   ]
  },
  {
   "attachments": {},
   "cell_type": "markdown",
   "metadata": {},
   "source": [
    "## Regression\n",
    "\n",
    "split score:\n",
    "\n",
    "* variance"
   ]
  },
  {
   "cell_type": "code",
   "execution_count": null,
   "metadata": {},
   "outputs": [],
   "source": [
    "def get_reg_stats(\n",
    "    use_hist: bool,\n",
    "    n_bins: int,\n",
    "    n_samples_arr: T.List[int],\n",
    "    n_features_arr: T.List[int],\n",
    ") -> pd.DataFrame:\n",
    "    execution_stats = []\n",
    "\n",
    "    for n_samples, n_features in itertools.product(n_samples_arr, n_features_arr):\n",
    "        X, y = sk_datasets.make_classification(\n",
    "            n_samples=n_samples,\n",
    "            n_features=n_features,\n",
    "            n_classes=2,\n",
    "            n_redundant=0,\n",
    "            class_sep=2,\n",
    "            random_state=42,\n",
    "        )\n",
    "        # sns.scatterplot(x=X[:, 0], y=X[:, 1], hue=y, alpha=0.3);\n",
    "\n",
    "        model = xgboost.XGBoostRegressor(use_hist=use_hist, n_bins=n_bins, max_depth=4)\n",
    "\n",
    "        t0 = time.time()\n",
    "        model.fit(X, y)\n",
    "\n",
    "        t1 = time.time()\n",
    "        y_pred = model.predict(X)\n",
    "\n",
    "        t2 = time.time()\n",
    "\n",
    "        t_fit = t1 - t0\n",
    "        t_pred = t2 - t1\n",
    "\n",
    "        execution_stats.append(\n",
    "            {\n",
    "                \"n_samples\": n_samples,\n",
    "                \"n_features\": n_features,\n",
    "                \"t_fit\": t_fit,\n",
    "                \"t_pred\": t_pred,\n",
    "                \"mse\": metrics.mean_squared_error(y, y_pred),\n",
    "            }\n",
    "        )\n",
    "\n",
    "    execution_stats = pd.DataFrame(execution_stats)\n",
    "    return execution_stats"
   ]
  },
  {
   "cell_type": "code",
   "execution_count": null,
   "metadata": {},
   "outputs": [],
   "source": [
    "n_samples_arr = [100, 500, 1_000, 5_000, 10_000]\n",
    "n_features_arr = [2, 5, 10]"
   ]
  },
  {
   "cell_type": "code",
   "execution_count": null,
   "metadata": {},
   "outputs": [],
   "source": [
    "execution_stats_class_vanilla = get_reg_stats(False, 256, n_samples_arr, n_features_arr)"
   ]
  },
  {
   "cell_type": "code",
   "execution_count": null,
   "metadata": {},
   "outputs": [],
   "source": [
    "execution_stats_class_with_hist = get_reg_stats(\n",
    "    True, 100, n_samples_arr, n_features_arr\n",
    ")"
   ]
  },
  {
   "cell_type": "code",
   "execution_count": null,
   "metadata": {},
   "outputs": [],
   "source": [
    "execution_stats_class = pd.concat(\n",
    "    [\n",
    "        execution_stats_class_vanilla.assign(group=\"vanilla\"),\n",
    "        execution_stats_class_with_hist.assign(group=\"histogram\"),\n",
    "    ],\n",
    "    ignore_index=True,\n",
    ")\n",
    "execution_stats_class.head()"
   ]
  },
  {
   "cell_type": "code",
   "execution_count": null,
   "metadata": {},
   "outputs": [],
   "source": [
    "fig, axs = plt.subplots(figsize=(12, 9), nrows=3, sharex=True)\n",
    "\n",
    "ax = axs[0]\n",
    "sns.lineplot(\n",
    "    data=execution_stats_class,\n",
    "    x=\"n_samples\",\n",
    "    y=\"t_fit\",\n",
    "    hue=\"n_features\",\n",
    "    style=\"group\",\n",
    "    ax=ax,\n",
    ")\n",
    "ax.set(title=\".fit\", ylabel=\"time [s]\")\n",
    "ax = axs[1]\n",
    "sns.lineplot(\n",
    "    data=execution_stats_class,\n",
    "    x=\"n_samples\",\n",
    "    y=\"t_pred\",\n",
    "    hue=\"n_features\",\n",
    "    style=\"group\",\n",
    "    ax=ax,\n",
    ")\n",
    "ax.set(title=\".predict_proba\", ylabel=\"time [s]\")\n",
    "ax = axs[2]\n",
    "sns.lineplot(\n",
    "    data=execution_stats_class,\n",
    "    x=\"n_samples\",\n",
    "    y=\"mse\",\n",
    "    hue=\"n_features\",\n",
    "    style=\"group\",\n",
    "    ax=ax,\n",
    ")\n",
    "ax.set(title=\"score\", ylabel=\"score [mse]\")\n",
    "\n",
    "plt.suptitle(\"Time DecisionTreeRegressor.* took based on n_samples and n_features\")\n",
    "plt.tight_layout()"
   ]
  },
  {
   "cell_type": "code",
   "execution_count": null,
   "metadata": {},
   "outputs": [],
   "source": [
    "fig, axs = plt.subplots(figsize=(12, 9), nrows=3)\n",
    "\n",
    "ax = axs[0]\n",
    "sns.lineplot(\n",
    "    data=execution_stats_class,\n",
    "    x=\"n_features\",\n",
    "    y=\"t_fit\",\n",
    "    hue=\"n_samples\",\n",
    "    style=\"group\",\n",
    "    ax=ax,\n",
    ")\n",
    "\n",
    "ax = axs[1]\n",
    "sns.lineplot(\n",
    "    data=execution_stats_class,\n",
    "    x=\"n_features\",\n",
    "    y=\"t_pred\",\n",
    "    hue=\"n_samples\",\n",
    "    style=\"group\",\n",
    "    ax=ax,\n",
    ")\n",
    "\n",
    "ax = axs[2]\n",
    "sns.lineplot(\n",
    "    data=execution_stats_class,\n",
    "    x=\"n_features\",\n",
    "    y=\"mse\",\n",
    "    hue=\"n_samples\",\n",
    "    style=\"group\",\n",
    "    ax=ax,\n",
    ")\n",
    "\n",
    "plt.suptitle(\"Time take based on n_features\")\n",
    "plt.tight_layout()"
   ]
  },
  {
   "cell_type": "code",
   "execution_count": null,
   "metadata": {},
   "outputs": [],
   "source": []
  }
 ],
 "metadata": {
  "language_info": {
   "codemirror_mode": {
    "name": "ipython",
    "version": 3
   },
   "file_extension": ".py",
   "mimetype": "text/x-python",
   "name": "python",
   "nbconvert_exporter": "python",
   "pygments_lexer": "ipython3",
   "version": "3.13.3"
  }
 },
 "nbformat": 4,
 "nbformat_minor": 2
}
